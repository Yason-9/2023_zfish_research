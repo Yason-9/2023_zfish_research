{
  "nbformat": 4,
  "nbformat_minor": 0,
  "metadata": {
    "colab": {
      "provenance": [],
      "gpuType": "T4",
      "authorship_tag": "ABX9TyNNfB8LHKFlRtBO+82qLooF",
      "include_colab_link": true
    },
    "kernelspec": {
      "name": "python3",
      "display_name": "Python 3"
    },
    "language_info": {
      "name": "python"
    },
    "accelerator": "GPU"
  },
  "cells": [
    {
      "cell_type": "markdown",
      "metadata": {
        "id": "view-in-github",
        "colab_type": "text"
      },
      "source": [
        "<a href=\"https://colab.research.google.com/github/Yason-9/2023_zfish_research/blob/main/zfish_dlc.ipynb\" target=\"_parent\"><img src=\"https://colab.research.google.com/assets/colab-badge.svg\" alt=\"Open In Colab\"/></a>"
      ]
    },
    {
      "cell_type": "code",
      "execution_count": 1,
      "metadata": {
        "colab": {
          "base_uri": "https://localhost:8080/"
        },
        "id": "DEBAaJF56zTx",
        "outputId": "1d11751a-2d0e-426d-dae7-cc9a0525f2cd"
      },
      "outputs": [
        {
          "output_type": "stream",
          "name": "stdout",
          "text": [
            "Collecting https://github.com/DeepLabCut/DeepLabCut/archive/master.zip\n",
            "  Downloading https://github.com/DeepLabCut/DeepLabCut/archive/master.zip\n",
            "\u001b[2K     \u001b[32m-\u001b[0m \u001b[32m75.5 MB\u001b[0m \u001b[31m21.0 MB/s\u001b[0m \u001b[33m0:00:05\u001b[0m\n",
            "\u001b[?25h  Preparing metadata (setup.py) ... \u001b[?25l\u001b[?25hdone\n",
            "Collecting dlclibrary (from deeplabcut==2.3.5)\n",
            "  Downloading dlclibrary-0.0.3-py3-none-any.whl (14 kB)\n",
            "Collecting filterpy>=1.4.4 (from deeplabcut==2.3.5)\n",
            "  Downloading filterpy-1.4.5.zip (177 kB)\n",
            "\u001b[2K     \u001b[90m━━━━━━━━━━━━━━━━━━━━━━━━━━━━━━━━━━━━━━\u001b[0m \u001b[32m178.0/178.0 kB\u001b[0m \u001b[31m14.4 MB/s\u001b[0m eta \u001b[36m0:00:00\u001b[0m\n",
            "\u001b[?25h  Preparing metadata (setup.py) ... \u001b[?25l\u001b[?25hdone\n",
            "Collecting ruamel.yaml>=0.15.0 (from deeplabcut==2.3.5)\n",
            "  Downloading ruamel.yaml-0.17.32-py3-none-any.whl (112 kB)\n",
            "\u001b[2K     \u001b[90m━━━━━━━━━━━━━━━━━━━━━━━━━━━━━━━━━━━━━━\u001b[0m \u001b[32m112.2/112.2 kB\u001b[0m \u001b[31m15.3 MB/s\u001b[0m eta \u001b[36m0:00:00\u001b[0m\n",
            "\u001b[?25hRequirement already satisfied: imgaug>=0.4.0 in /usr/local/lib/python3.10/dist-packages (from deeplabcut==2.3.5) (0.4.0)\n",
            "Requirement already satisfied: imageio-ffmpeg in /usr/local/lib/python3.10/dist-packages (from deeplabcut==2.3.5) (0.4.8)\n",
            "Requirement already satisfied: numba>=0.54 in /usr/local/lib/python3.10/dist-packages (from deeplabcut==2.3.5) (0.56.4)\n",
            "Requirement already satisfied: matplotlib>=3.3 in /usr/local/lib/python3.10/dist-packages (from deeplabcut==2.3.5) (3.7.1)\n",
            "Requirement already satisfied: networkx>=2.6 in /usr/local/lib/python3.10/dist-packages (from deeplabcut==2.3.5) (3.1)\n",
            "Requirement already satisfied: numpy>=1.18.5 in /usr/local/lib/python3.10/dist-packages (from deeplabcut==2.3.5) (1.22.4)\n",
            "Requirement already satisfied: pandas!=1.5.0,>=1.0.1 in /usr/local/lib/python3.10/dist-packages (from deeplabcut==2.3.5) (1.5.3)\n",
            "Requirement already satisfied: scikit-image>=0.17 in /usr/local/lib/python3.10/dist-packages (from deeplabcut==2.3.5) (0.19.3)\n",
            "Requirement already satisfied: scikit-learn>=1.0 in /usr/local/lib/python3.10/dist-packages (from deeplabcut==2.3.5) (1.2.2)\n",
            "Requirement already satisfied: scipy<1.11.0,>=1.4 in /usr/local/lib/python3.10/dist-packages (from deeplabcut==2.3.5) (1.10.1)\n",
            "Requirement already satisfied: statsmodels>=0.11 in /usr/local/lib/python3.10/dist-packages (from deeplabcut==2.3.5) (0.13.5)\n",
            "Requirement already satisfied: tables>=3.7.0 in /usr/local/lib/python3.10/dist-packages (from deeplabcut==2.3.5) (3.8.0)\n",
            "Collecting torch<=1.12 (from deeplabcut==2.3.5)\n",
            "  Downloading torch-1.12.0-cp310-cp310-manylinux1_x86_64.whl (776.3 MB)\n",
            "\u001b[2K     \u001b[90m━━━━━━━━━━━━━━━━━━━━━━━━━━━━━━━━━━━━━━━\u001b[0m \u001b[32m776.3/776.3 MB\u001b[0m \u001b[31m2.2 MB/s\u001b[0m eta \u001b[36m0:00:00\u001b[0m\n",
            "\u001b[?25hCollecting tensorpack>=0.11 (from deeplabcut==2.3.5)\n",
            "  Downloading tensorpack-0.11-py2.py3-none-any.whl (296 kB)\n",
            "\u001b[2K     \u001b[90m━━━━━━━━━━━━━━━━━━━━━━━━━━━━━━━━━━━━━━\u001b[0m \u001b[32m296.3/296.3 kB\u001b[0m \u001b[31m32.7 MB/s\u001b[0m eta \u001b[36m0:00:00\u001b[0m\n",
            "\u001b[?25hRequirement already satisfied: tf_slim>=1.1.0 in /usr/local/lib/python3.10/dist-packages (from deeplabcut==2.3.5) (1.1.0)\n",
            "Requirement already satisfied: tqdm in /usr/local/lib/python3.10/dist-packages (from deeplabcut==2.3.5) (4.65.0)\n",
            "Requirement already satisfied: pyyaml in /usr/local/lib/python3.10/dist-packages (from deeplabcut==2.3.5) (6.0)\n",
            "Requirement already satisfied: Pillow>=7.1 in /usr/local/lib/python3.10/dist-packages (from deeplabcut==2.3.5) (8.4.0)\n",
            "Requirement already satisfied: six in /usr/local/lib/python3.10/dist-packages (from imgaug>=0.4.0->deeplabcut==2.3.5) (1.16.0)\n",
            "Requirement already satisfied: opencv-python in /usr/local/lib/python3.10/dist-packages (from imgaug>=0.4.0->deeplabcut==2.3.5) (4.7.0.72)\n",
            "Requirement already satisfied: imageio in /usr/local/lib/python3.10/dist-packages (from imgaug>=0.4.0->deeplabcut==2.3.5) (2.25.1)\n",
            "Requirement already satisfied: Shapely in /usr/local/lib/python3.10/dist-packages (from imgaug>=0.4.0->deeplabcut==2.3.5) (2.0.1)\n",
            "Requirement already satisfied: contourpy>=1.0.1 in /usr/local/lib/python3.10/dist-packages (from matplotlib>=3.3->deeplabcut==2.3.5) (1.1.0)\n",
            "Requirement already satisfied: cycler>=0.10 in /usr/local/lib/python3.10/dist-packages (from matplotlib>=3.3->deeplabcut==2.3.5) (0.11.0)\n",
            "Requirement already satisfied: fonttools>=4.22.0 in /usr/local/lib/python3.10/dist-packages (from matplotlib>=3.3->deeplabcut==2.3.5) (4.40.0)\n",
            "Requirement already satisfied: kiwisolver>=1.0.1 in /usr/local/lib/python3.10/dist-packages (from matplotlib>=3.3->deeplabcut==2.3.5) (1.4.4)\n",
            "Requirement already satisfied: packaging>=20.0 in /usr/local/lib/python3.10/dist-packages (from matplotlib>=3.3->deeplabcut==2.3.5) (23.1)\n",
            "Requirement already satisfied: pyparsing>=2.3.1 in /usr/local/lib/python3.10/dist-packages (from matplotlib>=3.3->deeplabcut==2.3.5) (3.1.0)\n",
            "Requirement already satisfied: python-dateutil>=2.7 in /usr/local/lib/python3.10/dist-packages (from matplotlib>=3.3->deeplabcut==2.3.5) (2.8.2)\n",
            "Requirement already satisfied: llvmlite<0.40,>=0.39.0dev0 in /usr/local/lib/python3.10/dist-packages (from numba>=0.54->deeplabcut==2.3.5) (0.39.1)\n",
            "Requirement already satisfied: setuptools in /usr/local/lib/python3.10/dist-packages (from numba>=0.54->deeplabcut==2.3.5) (67.7.2)\n",
            "Requirement already satisfied: pytz>=2020.1 in /usr/local/lib/python3.10/dist-packages (from pandas!=1.5.0,>=1.0.1->deeplabcut==2.3.5) (2022.7.1)\n",
            "Collecting ruamel.yaml.clib>=0.2.7 (from ruamel.yaml>=0.15.0->deeplabcut==2.3.5)\n",
            "  Downloading ruamel.yaml.clib-0.2.7-cp310-cp310-manylinux_2_17_x86_64.manylinux2014_x86_64.manylinux_2_24_x86_64.whl (485 kB)\n",
            "\u001b[2K     \u001b[90m━━━━━━━━━━━━━━━━━━━━━━━━━━━━━━━━━━━━━━\u001b[0m \u001b[32m485.6/485.6 kB\u001b[0m \u001b[31m43.8 MB/s\u001b[0m eta \u001b[36m0:00:00\u001b[0m\n",
            "\u001b[?25hRequirement already satisfied: tifffile>=2019.7.26 in /usr/local/lib/python3.10/dist-packages (from scikit-image>=0.17->deeplabcut==2.3.5) (2023.4.12)\n",
            "Requirement already satisfied: PyWavelets>=1.1.1 in /usr/local/lib/python3.10/dist-packages (from scikit-image>=0.17->deeplabcut==2.3.5) (1.4.1)\n",
            "Requirement already satisfied: joblib>=1.1.1 in /usr/local/lib/python3.10/dist-packages (from scikit-learn>=1.0->deeplabcut==2.3.5) (1.2.0)\n",
            "Requirement already satisfied: threadpoolctl>=2.0.0 in /usr/local/lib/python3.10/dist-packages (from scikit-learn>=1.0->deeplabcut==2.3.5) (3.1.0)\n",
            "Requirement already satisfied: patsy>=0.5.2 in /usr/local/lib/python3.10/dist-packages (from statsmodels>=0.11->deeplabcut==2.3.5) (0.5.3)\n",
            "Requirement already satisfied: cython>=0.29.21 in /usr/local/lib/python3.10/dist-packages (from tables>=3.7.0->deeplabcut==2.3.5) (0.29.35)\n",
            "Requirement already satisfied: numexpr>=2.6.2 in /usr/local/lib/python3.10/dist-packages (from tables>=3.7.0->deeplabcut==2.3.5) (2.8.4)\n",
            "Requirement already satisfied: blosc2~=2.0.0 in /usr/local/lib/python3.10/dist-packages (from tables>=3.7.0->deeplabcut==2.3.5) (2.0.0)\n",
            "Requirement already satisfied: py-cpuinfo in /usr/local/lib/python3.10/dist-packages (from tables>=3.7.0->deeplabcut==2.3.5) (9.0.0)\n",
            "Requirement already satisfied: termcolor>=1.1 in /usr/local/lib/python3.10/dist-packages (from tensorpack>=0.11->deeplabcut==2.3.5) (2.3.0)\n",
            "Requirement already satisfied: tabulate>=0.7.7 in /usr/local/lib/python3.10/dist-packages (from tensorpack>=0.11->deeplabcut==2.3.5) (0.8.10)\n",
            "Requirement already satisfied: msgpack>=0.5.2 in /usr/local/lib/python3.10/dist-packages (from tensorpack>=0.11->deeplabcut==2.3.5) (1.0.5)\n",
            "Collecting msgpack-numpy>=0.4.4.2 (from tensorpack>=0.11->deeplabcut==2.3.5)\n",
            "  Downloading msgpack_numpy-0.4.8-py2.py3-none-any.whl (6.9 kB)\n",
            "Requirement already satisfied: pyzmq>=16 in /usr/local/lib/python3.10/dist-packages (from tensorpack>=0.11->deeplabcut==2.3.5) (23.2.1)\n",
            "Requirement already satisfied: psutil>=5 in /usr/local/lib/python3.10/dist-packages (from tensorpack>=0.11->deeplabcut==2.3.5) (5.9.5)\n",
            "Requirement already satisfied: absl-py>=0.2.2 in /usr/local/lib/python3.10/dist-packages (from tf_slim>=1.1.0->deeplabcut==2.3.5) (1.4.0)\n",
            "Requirement already satisfied: typing-extensions in /usr/local/lib/python3.10/dist-packages (from torch<=1.12->deeplabcut==2.3.5) (4.6.3)\n",
            "Collecting huggingface-hub (from dlclibrary->deeplabcut==2.3.5)\n",
            "  Downloading huggingface_hub-0.15.1-py3-none-any.whl (236 kB)\n",
            "\u001b[2K     \u001b[90m━━━━━━━━━━━━━━━━━━━━━━━━━━━━━━━━━━━━━━\u001b[0m \u001b[32m236.8/236.8 kB\u001b[0m \u001b[31m30.7 MB/s\u001b[0m eta \u001b[36m0:00:00\u001b[0m\n",
            "\u001b[?25hRequirement already satisfied: filelock in /usr/local/lib/python3.10/dist-packages (from huggingface-hub->dlclibrary->deeplabcut==2.3.5) (3.12.2)\n",
            "Requirement already satisfied: fsspec in /usr/local/lib/python3.10/dist-packages (from huggingface-hub->dlclibrary->deeplabcut==2.3.5) (2023.6.0)\n",
            "Requirement already satisfied: requests in /usr/local/lib/python3.10/dist-packages (from huggingface-hub->dlclibrary->deeplabcut==2.3.5) (2.27.1)\n",
            "Requirement already satisfied: urllib3<1.27,>=1.21.1 in /usr/local/lib/python3.10/dist-packages (from requests->huggingface-hub->dlclibrary->deeplabcut==2.3.5) (1.26.16)\n",
            "Requirement already satisfied: certifi>=2017.4.17 in /usr/local/lib/python3.10/dist-packages (from requests->huggingface-hub->dlclibrary->deeplabcut==2.3.5) (2023.5.7)\n",
            "Requirement already satisfied: charset-normalizer~=2.0.0 in /usr/local/lib/python3.10/dist-packages (from requests->huggingface-hub->dlclibrary->deeplabcut==2.3.5) (2.0.12)\n",
            "Requirement already satisfied: idna<4,>=2.5 in /usr/local/lib/python3.10/dist-packages (from requests->huggingface-hub->dlclibrary->deeplabcut==2.3.5) (3.4)\n",
            "Building wheels for collected packages: deeplabcut, filterpy\n",
            "  Building wheel for deeplabcut (setup.py) ... \u001b[?25l\u001b[?25hdone\n",
            "  Created wheel for deeplabcut: filename=deeplabcut-2.3.5-py3-none-any.whl size=1381932 sha256=0d0adc95bed77688c7e477b0817ec63ad611dc4d73cb67ab033cab101451f467\n",
            "  Stored in directory: /tmp/pip-ephem-wheel-cache-dh_414d_/wheels/ed/52/7a/acef672cccff8889bdeb5d574e5f6ae39fa05735ee9ada0c35\n",
            "  Building wheel for filterpy (setup.py) ... \u001b[?25l\u001b[?25hdone\n",
            "  Created wheel for filterpy: filename=filterpy-1.4.5-py3-none-any.whl size=110459 sha256=123771542cef79f94c7a2eb0b92bc537acc7d857b30dbba5a4671e4a02ee550a\n",
            "  Stored in directory: /root/.cache/pip/wheels/0f/0c/ea/218f266af4ad626897562199fbbcba521b8497303200186102\n",
            "Successfully built deeplabcut filterpy\n",
            "Installing collected packages: torch, ruamel.yaml.clib, msgpack-numpy, tensorpack, ruamel.yaml, huggingface-hub, filterpy, dlclibrary, deeplabcut\n",
            "  Attempting uninstall: torch\n",
            "    Found existing installation: torch 2.0.1+cu118\n",
            "    Uninstalling torch-2.0.1+cu118:\n",
            "      Successfully uninstalled torch-2.0.1+cu118\n",
            "\u001b[31mERROR: pip's dependency resolver does not currently take into account all the packages that are installed. This behaviour is the source of the following dependency conflicts.\n",
            "torchaudio 2.0.2+cu118 requires torch==2.0.1, but you have torch 1.12.0 which is incompatible.\n",
            "torchdata 0.6.1 requires torch==2.0.1, but you have torch 1.12.0 which is incompatible.\n",
            "torchtext 0.15.2 requires torch==2.0.1, but you have torch 1.12.0 which is incompatible.\n",
            "torchvision 0.15.2+cu118 requires torch==2.0.1, but you have torch 1.12.0 which is incompatible.\u001b[0m\u001b[31m\n",
            "\u001b[0mSuccessfully installed deeplabcut-2.3.5 dlclibrary-0.0.3 filterpy-1.4.5 huggingface-hub-0.15.1 msgpack-numpy-0.4.8 ruamel.yaml-0.17.32 ruamel.yaml.clib-0.2.7 tensorpack-0.11 torch-1.12.0\n",
            "Requirement already satisfied: tf_slim in /usr/local/lib/python3.10/dist-packages (1.1.0)\n",
            "Requirement already satisfied: absl-py>=0.2.2 in /usr/local/lib/python3.10/dist-packages (from tf_slim) (1.4.0)\n"
          ]
        }
      ],
      "source": [
        "!pip install https://github.com/DeepLabCut/DeepLabCut/archive/master.zip\n",
        "!pip install tf_slim"
      ]
    },
    {
      "cell_type": "code",
      "source": [
        "from google.colab import drive\n",
        "drive.mount('/content/drive')\n",
        "\n",
        "import deeplabcut as dlc\n",
        "import tensorflow\n",
        "tensorflow.__version__\n",
        "\n",
        "import os"
      ],
      "metadata": {
        "colab": {
          "base_uri": "https://localhost:8080/"
        },
        "id": "bYct03Rq8ZiS",
        "outputId": "e35e0e10-4dd3-444b-f185-fb7f64a2ff90"
      },
      "execution_count": 2,
      "outputs": [
        {
          "output_type": "stream",
          "name": "stdout",
          "text": [
            "Mounted at /content/drive\n",
            "Loading DLC 2.3.5...\n",
            "DLC loaded in light mode; you cannot use any GUI (labeling, relabeling and standalone GUI)\n"
          ]
        }
      ]
    },
    {
      "cell_type": "code",
      "source": [
        "ProjectFolderName = 'ZebrafishTracking-DLC-2023-06-30'\n",
        "VideoType = \"avi\"\n",
        "\n",
        "\n",
        "videofile_path = ['/content/drive/My Drive/'+ProjectFolderName+'/videos/']\n",
        "\n",
        "path_config_file = '/content/drive/My Drive/'+ProjectFolderName+'/config.yaml'\n"
      ],
      "metadata": {
        "id": "UM0LPZzD84h4"
      },
      "execution_count": 12,
      "outputs": []
    },
    {
      "cell_type": "code",
      "source": [
        "SHUF = 1\n",
        "dlc.create_training_dataset(path_config_file, net_type='resnet_50', Shuffles=[SHUF], augmenter_type='imgaug')\n"
      ],
      "metadata": {
        "colab": {
          "base_uri": "https://localhost:8080/"
        },
        "id": "XkKJy1rJ_3HW",
        "outputId": "4babaf1f-e287-4ddb-9347-25ce579fd0c4"
      },
      "execution_count": 13,
      "outputs": [
        {
          "output_type": "stream",
          "name": "stdout",
          "text": [
            "The training dataset is successfully created. Use the function 'train_network' to start training. Happy training!\n"
          ]
        },
        {
          "output_type": "execute_result",
          "data": {
            "text/plain": [
              "[(0.95,\n",
              "  1,\n",
              "  (array([11, 13,  3,  0, 10,  2,  9,  7,  8,  6,  1,  5, 12, 14]),\n",
              "   array([4])))]"
            ]
          },
          "metadata": {},
          "execution_count": 13
        }
      ]
    },
    {
      "cell_type": "code",
      "source": [
        "dlc.train_network(path_config_file, shuffle=SHUF, displayiters=10,saveiters=500)\n"
      ],
      "metadata": {
        "colab": {
          "base_uri": "https://localhost:8080/",
          "height": 1000
        },
        "id": "easWOG5I0jj0",
        "outputId": "3d705af0-78a0-43e8-fead-07f5db23c013"
      },
      "execution_count": 18,
      "outputs": [
        {
          "output_type": "stream",
          "name": "stderr",
          "text": [
            "Config:\n",
            "{'all_joints': [[0], [1], [2], [3]],\n",
            " 'all_joints_names': ['right eye', 'left eye', 'lower head', 'tail'],\n",
            " 'alpha_r': 0.02,\n",
            " 'apply_prob': 0.5,\n",
            " 'batch_size': 1,\n",
            " 'contrast': {'clahe': True,\n",
            "              'claheratio': 0.1,\n",
            "              'histeq': True,\n",
            "              'histeqratio': 0.1},\n",
            " 'convolution': {'edge': False,\n",
            "                 'emboss': {'alpha': [0.0, 1.0], 'strength': [0.5, 1.5]},\n",
            "                 'embossratio': 0.1,\n",
            "                 'sharpen': False,\n",
            "                 'sharpenratio': 0.3},\n",
            " 'crop_pad': 0,\n",
            " 'cropratio': 0.4,\n",
            " 'dataset': 'training-datasets/iteration-0/UnaugmentedDataSet_ZebrafishTrackingJun30/ZebrafishTracking_DLC95shuffle1.mat',\n",
            " 'dataset_type': 'imgaug',\n",
            " 'decay_steps': 30000,\n",
            " 'deterministic': False,\n",
            " 'display_iters': 1000,\n",
            " 'fg_fraction': 0.25,\n",
            " 'global_scale': 0.8,\n",
            " 'init_weights': '/usr/local/lib/python3.10/dist-packages/deeplabcut/pose_estimation_tensorflow/models/pretrained/resnet_v1_50.ckpt',\n",
            " 'intermediate_supervision': False,\n",
            " 'intermediate_supervision_layer': 12,\n",
            " 'location_refinement': True,\n",
            " 'locref_huber_loss': True,\n",
            " 'locref_loss_weight': 0.05,\n",
            " 'locref_stdev': 7.2801,\n",
            " 'log_dir': 'log',\n",
            " 'lr_init': 0.0005,\n",
            " 'max_input_size': 1500,\n",
            " 'mean_pixel': [123.68, 116.779, 103.939],\n",
            " 'metadataset': 'training-datasets/iteration-0/UnaugmentedDataSet_ZebrafishTrackingJun30/Documentation_data-ZebrafishTracking_95shuffle1.pickle',\n",
            " 'min_input_size': 64,\n",
            " 'mirror': False,\n",
            " 'multi_stage': False,\n",
            " 'multi_step': [[0.005, 10000],\n",
            "                [0.02, 430000],\n",
            "                [0.002, 730000],\n",
            "                [0.001, 1030000]],\n",
            " 'net_type': 'resnet_50',\n",
            " 'num_joints': 4,\n",
            " 'optimizer': 'sgd',\n",
            " 'pairwise_huber_loss': False,\n",
            " 'pairwise_predict': False,\n",
            " 'partaffinityfield_predict': False,\n",
            " 'pos_dist_thresh': 17,\n",
            " 'project_path': '/content/drive/My Drive/ZebrafishTracking-DLC-2023-06-30',\n",
            " 'regularize': False,\n",
            " 'rotation': 25,\n",
            " 'rotratio': 0.4,\n",
            " 'save_iters': 50000,\n",
            " 'scale_jitter_lo': 0.5,\n",
            " 'scale_jitter_up': 1.25,\n",
            " 'scoremap_dir': 'test',\n",
            " 'shuffle': True,\n",
            " 'snapshot_prefix': '/content/drive/My '\n",
            "                    'Drive/ZebrafishTracking-DLC-2023-06-30/dlc-models/iteration-0/ZebrafishTrackingJun30-trainset95shuffle1/train/snapshot',\n",
            " 'stride': 8.0,\n",
            " 'weigh_negatives': False,\n",
            " 'weigh_only_present_joints': False,\n",
            " 'weigh_part_predictions': False,\n",
            " 'weight_decay': 0.0001}\n"
          ]
        },
        {
          "output_type": "stream",
          "name": "stdout",
          "text": [
            "Selecting single-animal trainer\n",
            "Batch Size is 1\n",
            "Loading ImageNet-pretrained resnet_50\n",
            "Display_iters overwritten as 10\n",
            "Save_iters overwritten as 500\n",
            "Training parameter:\n",
            "{'stride': 8.0, 'weigh_part_predictions': False, 'weigh_negatives': False, 'fg_fraction': 0.25, 'mean_pixel': [123.68, 116.779, 103.939], 'shuffle': True, 'snapshot_prefix': '/content/drive/My Drive/ZebrafishTracking-DLC-2023-06-30/dlc-models/iteration-0/ZebrafishTrackingJun30-trainset95shuffle1/train/snapshot', 'log_dir': 'log', 'global_scale': 0.8, 'location_refinement': True, 'locref_stdev': 7.2801, 'locref_loss_weight': 0.05, 'locref_huber_loss': True, 'optimizer': 'sgd', 'intermediate_supervision': False, 'intermediate_supervision_layer': 12, 'regularize': False, 'weight_decay': 0.0001, 'crop_pad': 0, 'scoremap_dir': 'test', 'batch_size': 1, 'dataset_type': 'imgaug', 'deterministic': False, 'mirror': False, 'pairwise_huber_loss': False, 'weigh_only_present_joints': False, 'partaffinityfield_predict': False, 'pairwise_predict': False, 'all_joints': [[0], [1], [2], [3]], 'all_joints_names': ['right eye', 'left eye', 'lower head', 'tail'], 'alpha_r': 0.02, 'apply_prob': 0.5, 'contrast': {'clahe': True, 'claheratio': 0.1, 'histeq': True, 'histeqratio': 0.1, 'gamma': False, 'sigmoid': False, 'log': False, 'linear': False}, 'convolution': {'edge': False, 'emboss': {'alpha': [0.0, 1.0], 'strength': [0.5, 1.5]}, 'embossratio': 0.1, 'sharpen': False, 'sharpenratio': 0.3}, 'cropratio': 0.4, 'dataset': 'training-datasets/iteration-0/UnaugmentedDataSet_ZebrafishTrackingJun30/ZebrafishTracking_DLC95shuffle1.mat', 'decay_steps': 30000, 'display_iters': 1000, 'init_weights': '/usr/local/lib/python3.10/dist-packages/deeplabcut/pose_estimation_tensorflow/models/pretrained/resnet_v1_50.ckpt', 'lr_init': 0.0005, 'max_input_size': 1500, 'metadataset': 'training-datasets/iteration-0/UnaugmentedDataSet_ZebrafishTrackingJun30/Documentation_data-ZebrafishTracking_95shuffle1.pickle', 'min_input_size': 64, 'multi_stage': False, 'multi_step': [[0.005, 10000], [0.02, 430000], [0.002, 730000], [0.001, 1030000]], 'net_type': 'resnet_50', 'num_joints': 4, 'pos_dist_thresh': 17, 'project_path': '/content/drive/My Drive/ZebrafishTracking-DLC-2023-06-30', 'rotation': 25, 'rotratio': 0.4, 'save_iters': 50000, 'scale_jitter_lo': 0.5, 'scale_jitter_up': 1.25, 'covering': True, 'elastic_transform': True, 'motion_blur': True, 'motion_blur_params': {'k': 7, 'angle': (-90, 90)}}\n",
            "Starting training....\n"
          ]
        },
        {
          "output_type": "stream",
          "name": "stderr",
          "text": [
            "iteration: 10 loss: 0.2668 lr: 0.005\n",
            "iteration: 20 loss: 0.0408 lr: 0.005\n",
            "iteration: 30 loss: 0.0274 lr: 0.005\n",
            "iteration: 40 loss: 0.0274 lr: 0.005\n",
            "iteration: 50 loss: 0.0231 lr: 0.005\n",
            "iteration: 60 loss: 0.0251 lr: 0.005\n",
            "iteration: 70 loss: 0.0221 lr: 0.005\n",
            "iteration: 80 loss: 0.0225 lr: 0.005\n",
            "iteration: 90 loss: 0.0255 lr: 0.005\n",
            "iteration: 100 loss: 0.0191 lr: 0.005\n",
            "iteration: 110 loss: 0.0233 lr: 0.005\n",
            "iteration: 120 loss: 0.0239 lr: 0.005\n",
            "iteration: 130 loss: 0.0214 lr: 0.005\n",
            "iteration: 140 loss: 0.0184 lr: 0.005\n",
            "iteration: 150 loss: 0.0178 lr: 0.005\n",
            "iteration: 160 loss: 0.0180 lr: 0.005\n",
            "iteration: 170 loss: 0.0162 lr: 0.005\n",
            "iteration: 180 loss: 0.0174 lr: 0.005\n",
            "iteration: 190 loss: 0.0192 lr: 0.005\n",
            "iteration: 200 loss: 0.0161 lr: 0.005\n",
            "iteration: 210 loss: 0.0161 lr: 0.005\n",
            "iteration: 220 loss: 0.0165 lr: 0.005\n",
            "iteration: 230 loss: 0.0177 lr: 0.005\n",
            "iteration: 240 loss: 0.0133 lr: 0.005\n",
            "iteration: 250 loss: 0.0173 lr: 0.005\n",
            "iteration: 260 loss: 0.0163 lr: 0.005\n",
            "iteration: 270 loss: 0.0142 lr: 0.005\n",
            "iteration: 280 loss: 0.0137 lr: 0.005\n",
            "iteration: 290 loss: 0.0155 lr: 0.005\n",
            "iteration: 300 loss: 0.0136 lr: 0.005\n",
            "iteration: 310 loss: 0.0151 lr: 0.005\n",
            "iteration: 320 loss: 0.0096 lr: 0.005\n",
            "iteration: 330 loss: 0.0141 lr: 0.005\n",
            "iteration: 340 loss: 0.0097 lr: 0.005\n",
            "iteration: 350 loss: 0.0122 lr: 0.005\n",
            "iteration: 360 loss: 0.0121 lr: 0.005\n",
            "iteration: 370 loss: 0.0116 lr: 0.005\n",
            "iteration: 380 loss: 0.0164 lr: 0.005\n",
            "iteration: 390 loss: 0.0132 lr: 0.005\n",
            "iteration: 400 loss: 0.0116 lr: 0.005\n",
            "iteration: 410 loss: 0.0132 lr: 0.005\n",
            "iteration: 420 loss: 0.0098 lr: 0.005\n",
            "iteration: 430 loss: 0.0123 lr: 0.005\n",
            "iteration: 440 loss: 0.0126 lr: 0.005\n",
            "iteration: 450 loss: 0.0104 lr: 0.005\n",
            "iteration: 460 loss: 0.0103 lr: 0.005\n",
            "iteration: 470 loss: 0.0098 lr: 0.005\n",
            "iteration: 480 loss: 0.0112 lr: 0.005\n",
            "iteration: 490 loss: 0.0123 lr: 0.005\n",
            "iteration: 500 loss: 0.0097 lr: 0.005\n",
            "iteration: 510 loss: 0.0129 lr: 0.005\n",
            "iteration: 520 loss: 0.0108 lr: 0.005\n",
            "iteration: 530 loss: 0.0105 lr: 0.005\n",
            "iteration: 540 loss: 0.0085 lr: 0.005\n",
            "iteration: 550 loss: 0.0113 lr: 0.005\n",
            "iteration: 560 loss: 0.0099 lr: 0.005\n",
            "iteration: 570 loss: 0.0094 lr: 0.005\n",
            "iteration: 580 loss: 0.0110 lr: 0.005\n",
            "iteration: 590 loss: 0.0099 lr: 0.005\n",
            "iteration: 600 loss: 0.0080 lr: 0.005\n",
            "iteration: 610 loss: 0.0132 lr: 0.005\n",
            "iteration: 620 loss: 0.0101 lr: 0.005\n",
            "iteration: 630 loss: 0.0101 lr: 0.005\n",
            "iteration: 640 loss: 0.0099 lr: 0.005\n",
            "iteration: 650 loss: 0.0098 lr: 0.005\n",
            "iteration: 660 loss: 0.0086 lr: 0.005\n",
            "iteration: 670 loss: 0.0075 lr: 0.005\n",
            "iteration: 680 loss: 0.0074 lr: 0.005\n",
            "iteration: 690 loss: 0.0078 lr: 0.005\n",
            "iteration: 700 loss: 0.0079 lr: 0.005\n",
            "iteration: 710 loss: 0.0073 lr: 0.005\n",
            "iteration: 720 loss: 0.0078 lr: 0.005\n",
            "iteration: 730 loss: 0.0111 lr: 0.005\n",
            "iteration: 740 loss: 0.0101 lr: 0.005\n",
            "iteration: 750 loss: 0.0096 lr: 0.005\n",
            "iteration: 760 loss: 0.0086 lr: 0.005\n",
            "iteration: 770 loss: 0.0094 lr: 0.005\n",
            "iteration: 780 loss: 0.0105 lr: 0.005\n",
            "iteration: 790 loss: 0.0070 lr: 0.005\n",
            "iteration: 800 loss: 0.0100 lr: 0.005\n",
            "iteration: 810 loss: 0.0093 lr: 0.005\n",
            "iteration: 820 loss: 0.0065 lr: 0.005\n",
            "iteration: 830 loss: 0.0076 lr: 0.005\n",
            "iteration: 840 loss: 0.0089 lr: 0.005\n",
            "iteration: 850 loss: 0.0091 lr: 0.005\n",
            "iteration: 860 loss: 0.0078 lr: 0.005\n",
            "iteration: 870 loss: 0.0109 lr: 0.005\n",
            "iteration: 880 loss: 0.0084 lr: 0.005\n",
            "iteration: 890 loss: 0.0078 lr: 0.005\n",
            "iteration: 900 loss: 0.0080 lr: 0.005\n",
            "iteration: 910 loss: 0.0068 lr: 0.005\n",
            "iteration: 920 loss: 0.0070 lr: 0.005\n",
            "iteration: 930 loss: 0.0069 lr: 0.005\n",
            "iteration: 940 loss: 0.0073 lr: 0.005\n",
            "iteration: 950 loss: 0.0082 lr: 0.005\n",
            "iteration: 960 loss: 0.0101 lr: 0.005\n",
            "iteration: 970 loss: 0.0082 lr: 0.005\n",
            "iteration: 980 loss: 0.0062 lr: 0.005\n",
            "iteration: 990 loss: 0.0091 lr: 0.005\n",
            "iteration: 1000 loss: 0.0067 lr: 0.005\n",
            "iteration: 1010 loss: 0.0070 lr: 0.005\n",
            "iteration: 1020 loss: 0.0072 lr: 0.005\n",
            "iteration: 1030 loss: 0.0072 lr: 0.005\n",
            "iteration: 1040 loss: 0.0067 lr: 0.005\n",
            "iteration: 1050 loss: 0.0083 lr: 0.005\n",
            "iteration: 1060 loss: 0.0067 lr: 0.005\n",
            "iteration: 1070 loss: 0.0072 lr: 0.005\n",
            "iteration: 1080 loss: 0.0086 lr: 0.005\n",
            "iteration: 1090 loss: 0.0073 lr: 0.005\n",
            "iteration: 1100 loss: 0.0094 lr: 0.005\n",
            "iteration: 1110 loss: 0.0064 lr: 0.005\n",
            "iteration: 1120 loss: 0.0074 lr: 0.005\n",
            "iteration: 1130 loss: 0.0073 lr: 0.005\n",
            "iteration: 1140 loss: 0.0067 lr: 0.005\n",
            "iteration: 1150 loss: 0.0108 lr: 0.005\n",
            "iteration: 1160 loss: 0.0057 lr: 0.005\n",
            "iteration: 1170 loss: 0.0080 lr: 0.005\n",
            "iteration: 1180 loss: 0.0080 lr: 0.005\n",
            "iteration: 1190 loss: 0.0078 lr: 0.005\n",
            "iteration: 1200 loss: 0.0072 lr: 0.005\n",
            "iteration: 1210 loss: 0.0081 lr: 0.005\n",
            "iteration: 1220 loss: 0.0057 lr: 0.005\n",
            "iteration: 1230 loss: 0.0085 lr: 0.005\n"
          ]
        },
        {
          "output_type": "error",
          "ename": "KeyboardInterrupt",
          "evalue": "ignored",
          "traceback": [
            "\u001b[0;31m---------------------------------------------------------------------------\u001b[0m",
            "\u001b[0;31mKeyboardInterrupt\u001b[0m                         Traceback (most recent call last)",
            "\u001b[0;32m<ipython-input-18-3171b8adcb1e>\u001b[0m in \u001b[0;36m<cell line: 1>\u001b[0;34m()\u001b[0m\n\u001b[0;32m----> 1\u001b[0;31m \u001b[0mdlc\u001b[0m\u001b[0;34m.\u001b[0m\u001b[0mtrain_network\u001b[0m\u001b[0;34m(\u001b[0m\u001b[0mpath_config_file\u001b[0m\u001b[0;34m,\u001b[0m \u001b[0mshuffle\u001b[0m\u001b[0;34m=\u001b[0m\u001b[0mSHUF\u001b[0m\u001b[0;34m,\u001b[0m \u001b[0mdisplayiters\u001b[0m\u001b[0;34m=\u001b[0m\u001b[0;36m10\u001b[0m\u001b[0;34m,\u001b[0m\u001b[0msaveiters\u001b[0m\u001b[0;34m=\u001b[0m\u001b[0;36m500\u001b[0m\u001b[0;34m)\u001b[0m\u001b[0;34m\u001b[0m\u001b[0;34m\u001b[0m\u001b[0m\n\u001b[0m",
            "\u001b[0;32m/usr/local/lib/python3.10/dist-packages/deeplabcut/pose_estimation_tensorflow/training.py\u001b[0m in \u001b[0;36mtrain_network\u001b[0;34m(config, shuffle, trainingsetindex, max_snapshots_to_keep, displayiters, saveiters, maxiters, allow_growth, gputouse, autotune, keepdeconvweights, modelprefix)\u001b[0m\n\u001b[1;32m    221\u001b[0m \u001b[0;34m\u001b[0m\u001b[0m\n\u001b[1;32m    222\u001b[0m     \u001b[0;32mexcept\u001b[0m \u001b[0mBaseException\u001b[0m \u001b[0;32mas\u001b[0m \u001b[0me\u001b[0m\u001b[0;34m:\u001b[0m\u001b[0;34m\u001b[0m\u001b[0;34m\u001b[0m\u001b[0m\n\u001b[0;32m--> 223\u001b[0;31m         \u001b[0;32mraise\u001b[0m \u001b[0me\u001b[0m\u001b[0;34m\u001b[0m\u001b[0;34m\u001b[0m\u001b[0m\n\u001b[0m\u001b[1;32m    224\u001b[0m     \u001b[0;32mfinally\u001b[0m\u001b[0;34m:\u001b[0m\u001b[0;34m\u001b[0m\u001b[0;34m\u001b[0m\u001b[0m\n\u001b[1;32m    225\u001b[0m         \u001b[0mos\u001b[0m\u001b[0;34m.\u001b[0m\u001b[0mchdir\u001b[0m\u001b[0;34m(\u001b[0m\u001b[0mstr\u001b[0m\u001b[0;34m(\u001b[0m\u001b[0mstart_path\u001b[0m\u001b[0;34m)\u001b[0m\u001b[0;34m)\u001b[0m\u001b[0;34m\u001b[0m\u001b[0;34m\u001b[0m\u001b[0m\n",
            "\u001b[0;32m/usr/local/lib/python3.10/dist-packages/deeplabcut/pose_estimation_tensorflow/training.py\u001b[0m in \u001b[0;36mtrain_network\u001b[0;34m(config, shuffle, trainingsetindex, max_snapshots_to_keep, displayiters, saveiters, maxiters, allow_growth, gputouse, autotune, keepdeconvweights, modelprefix)\u001b[0m\n\u001b[1;32m    210\u001b[0m \u001b[0;34m\u001b[0m\u001b[0m\n\u001b[1;32m    211\u001b[0m             \u001b[0mprint\u001b[0m\u001b[0;34m(\u001b[0m\u001b[0;34m\"Selecting single-animal trainer\"\u001b[0m\u001b[0;34m)\u001b[0m\u001b[0;34m\u001b[0m\u001b[0;34m\u001b[0m\u001b[0m\n\u001b[0;32m--> 212\u001b[0;31m             train(\n\u001b[0m\u001b[1;32m    213\u001b[0m                 \u001b[0mstr\u001b[0m\u001b[0;34m(\u001b[0m\u001b[0mposeconfigfile\u001b[0m\u001b[0;34m)\u001b[0m\u001b[0;34m,\u001b[0m\u001b[0;34m\u001b[0m\u001b[0;34m\u001b[0m\u001b[0m\n\u001b[1;32m    214\u001b[0m                 \u001b[0mdisplayiters\u001b[0m\u001b[0;34m,\u001b[0m\u001b[0;34m\u001b[0m\u001b[0;34m\u001b[0m\u001b[0m\n",
            "\u001b[0;32m/usr/local/lib/python3.10/dist-packages/deeplabcut/pose_estimation_tensorflow/core/train.py\u001b[0m in \u001b[0;36mtrain\u001b[0;34m(config_yaml, displayiters, saveiters, maxiters, max_to_keep, keepdeconvweights, allow_growth)\u001b[0m\n\u001b[1;32m    281\u001b[0m             \u001b[0mlr_dict\u001b[0m \u001b[0;34m=\u001b[0m \u001b[0;34m{\u001b[0m\u001b[0mlearning_rate\u001b[0m\u001b[0;34m:\u001b[0m \u001b[0mcurrent_lr\u001b[0m\u001b[0;34m}\u001b[0m\u001b[0;34m\u001b[0m\u001b[0;34m\u001b[0m\u001b[0m\n\u001b[1;32m    282\u001b[0m \u001b[0;34m\u001b[0m\u001b[0m\n\u001b[0;32m--> 283\u001b[0;31m         [_, loss_val, summary] = sess.run(\n\u001b[0m\u001b[1;32m    284\u001b[0m             \u001b[0;34m[\u001b[0m\u001b[0mtrain_op\u001b[0m\u001b[0;34m,\u001b[0m \u001b[0mtotal_loss\u001b[0m\u001b[0;34m,\u001b[0m \u001b[0mmerged_summaries\u001b[0m\u001b[0;34m]\u001b[0m\u001b[0;34m,\u001b[0m \u001b[0mfeed_dict\u001b[0m\u001b[0;34m=\u001b[0m\u001b[0mlr_dict\u001b[0m\u001b[0;34m\u001b[0m\u001b[0;34m\u001b[0m\u001b[0m\n\u001b[1;32m    285\u001b[0m         )\n",
            "\u001b[0;32m/usr/local/lib/python3.10/dist-packages/tensorflow/python/client/session.py\u001b[0m in \u001b[0;36mrun\u001b[0;34m(self, fetches, feed_dict, options, run_metadata)\u001b[0m\n\u001b[1;32m    966\u001b[0m \u001b[0;34m\u001b[0m\u001b[0m\n\u001b[1;32m    967\u001b[0m     \u001b[0;32mtry\u001b[0m\u001b[0;34m:\u001b[0m\u001b[0;34m\u001b[0m\u001b[0;34m\u001b[0m\u001b[0m\n\u001b[0;32m--> 968\u001b[0;31m       result = self._run(None, fetches, feed_dict, options_ptr,\n\u001b[0m\u001b[1;32m    969\u001b[0m                          run_metadata_ptr)\n\u001b[1;32m    970\u001b[0m       \u001b[0;32mif\u001b[0m \u001b[0mrun_metadata\u001b[0m\u001b[0;34m:\u001b[0m\u001b[0;34m\u001b[0m\u001b[0;34m\u001b[0m\u001b[0m\n",
            "\u001b[0;32m/usr/local/lib/python3.10/dist-packages/tensorflow/python/client/session.py\u001b[0m in \u001b[0;36m_run\u001b[0;34m(self, handle, fetches, feed_dict, options, run_metadata)\u001b[0m\n\u001b[1;32m   1189\u001b[0m     \u001b[0;31m# or if the call is a partial run that specifies feeds.\u001b[0m\u001b[0;34m\u001b[0m\u001b[0;34m\u001b[0m\u001b[0m\n\u001b[1;32m   1190\u001b[0m     \u001b[0;32mif\u001b[0m \u001b[0mfinal_fetches\u001b[0m \u001b[0;32mor\u001b[0m \u001b[0mfinal_targets\u001b[0m \u001b[0;32mor\u001b[0m \u001b[0;34m(\u001b[0m\u001b[0mhandle\u001b[0m \u001b[0;32mand\u001b[0m \u001b[0mfeed_dict_tensor\u001b[0m\u001b[0;34m)\u001b[0m\u001b[0;34m:\u001b[0m\u001b[0;34m\u001b[0m\u001b[0;34m\u001b[0m\u001b[0m\n\u001b[0;32m-> 1191\u001b[0;31m       results = self._do_run(handle, final_targets, final_fetches,\n\u001b[0m\u001b[1;32m   1192\u001b[0m                              feed_dict_tensor, options, run_metadata)\n\u001b[1;32m   1193\u001b[0m     \u001b[0;32melse\u001b[0m\u001b[0;34m:\u001b[0m\u001b[0;34m\u001b[0m\u001b[0;34m\u001b[0m\u001b[0m\n",
            "\u001b[0;32m/usr/local/lib/python3.10/dist-packages/tensorflow/python/client/session.py\u001b[0m in \u001b[0;36m_do_run\u001b[0;34m(self, handle, target_list, fetch_list, feed_dict, options, run_metadata)\u001b[0m\n\u001b[1;32m   1369\u001b[0m \u001b[0;34m\u001b[0m\u001b[0m\n\u001b[1;32m   1370\u001b[0m     \u001b[0;32mif\u001b[0m \u001b[0mhandle\u001b[0m \u001b[0;32mis\u001b[0m \u001b[0;32mNone\u001b[0m\u001b[0;34m:\u001b[0m\u001b[0;34m\u001b[0m\u001b[0;34m\u001b[0m\u001b[0m\n\u001b[0;32m-> 1371\u001b[0;31m       return self._do_call(_run_fn, feeds, fetches, targets, options,\n\u001b[0m\u001b[1;32m   1372\u001b[0m                            run_metadata)\n\u001b[1;32m   1373\u001b[0m     \u001b[0;32melse\u001b[0m\u001b[0;34m:\u001b[0m\u001b[0;34m\u001b[0m\u001b[0;34m\u001b[0m\u001b[0m\n",
            "\u001b[0;32m/usr/local/lib/python3.10/dist-packages/tensorflow/python/client/session.py\u001b[0m in \u001b[0;36m_do_call\u001b[0;34m(self, fn, *args)\u001b[0m\n\u001b[1;32m   1376\u001b[0m   \u001b[0;32mdef\u001b[0m \u001b[0m_do_call\u001b[0m\u001b[0;34m(\u001b[0m\u001b[0mself\u001b[0m\u001b[0;34m,\u001b[0m \u001b[0mfn\u001b[0m\u001b[0;34m,\u001b[0m \u001b[0;34m*\u001b[0m\u001b[0margs\u001b[0m\u001b[0;34m)\u001b[0m\u001b[0;34m:\u001b[0m\u001b[0;34m\u001b[0m\u001b[0;34m\u001b[0m\u001b[0m\n\u001b[1;32m   1377\u001b[0m     \u001b[0;32mtry\u001b[0m\u001b[0;34m:\u001b[0m\u001b[0;34m\u001b[0m\u001b[0;34m\u001b[0m\u001b[0m\n\u001b[0;32m-> 1378\u001b[0;31m       \u001b[0;32mreturn\u001b[0m \u001b[0mfn\u001b[0m\u001b[0;34m(\u001b[0m\u001b[0;34m*\u001b[0m\u001b[0margs\u001b[0m\u001b[0;34m)\u001b[0m\u001b[0;34m\u001b[0m\u001b[0;34m\u001b[0m\u001b[0m\n\u001b[0m\u001b[1;32m   1379\u001b[0m     \u001b[0;32mexcept\u001b[0m \u001b[0merrors\u001b[0m\u001b[0;34m.\u001b[0m\u001b[0mOpError\u001b[0m \u001b[0;32mas\u001b[0m \u001b[0me\u001b[0m\u001b[0;34m:\u001b[0m\u001b[0;34m\u001b[0m\u001b[0;34m\u001b[0m\u001b[0m\n\u001b[1;32m   1380\u001b[0m       \u001b[0mmessage\u001b[0m \u001b[0;34m=\u001b[0m \u001b[0mcompat\u001b[0m\u001b[0;34m.\u001b[0m\u001b[0mas_text\u001b[0m\u001b[0;34m(\u001b[0m\u001b[0me\u001b[0m\u001b[0;34m.\u001b[0m\u001b[0mmessage\u001b[0m\u001b[0;34m)\u001b[0m\u001b[0;34m\u001b[0m\u001b[0;34m\u001b[0m\u001b[0m\n",
            "\u001b[0;32m/usr/local/lib/python3.10/dist-packages/tensorflow/python/client/session.py\u001b[0m in \u001b[0;36m_run_fn\u001b[0;34m(feed_dict, fetch_list, target_list, options, run_metadata)\u001b[0m\n\u001b[1;32m   1359\u001b[0m       \u001b[0;31m# Ensure any changes to the graph are reflected in the runtime.\u001b[0m\u001b[0;34m\u001b[0m\u001b[0;34m\u001b[0m\u001b[0m\n\u001b[1;32m   1360\u001b[0m       \u001b[0mself\u001b[0m\u001b[0;34m.\u001b[0m\u001b[0m_extend_graph\u001b[0m\u001b[0;34m(\u001b[0m\u001b[0;34m)\u001b[0m\u001b[0;34m\u001b[0m\u001b[0;34m\u001b[0m\u001b[0m\n\u001b[0;32m-> 1361\u001b[0;31m       return self._call_tf_sessionrun(options, feed_dict, fetch_list,\n\u001b[0m\u001b[1;32m   1362\u001b[0m                                       target_list, run_metadata)\n\u001b[1;32m   1363\u001b[0m \u001b[0;34m\u001b[0m\u001b[0m\n",
            "\u001b[0;32m/usr/local/lib/python3.10/dist-packages/tensorflow/python/client/session.py\u001b[0m in \u001b[0;36m_call_tf_sessionrun\u001b[0;34m(self, options, feed_dict, fetch_list, target_list, run_metadata)\u001b[0m\n\u001b[1;32m   1452\u001b[0m   def _call_tf_sessionrun(self, options, feed_dict, fetch_list, target_list,\n\u001b[1;32m   1453\u001b[0m                           run_metadata):\n\u001b[0;32m-> 1454\u001b[0;31m     return tf_session.TF_SessionRun_wrapper(self._session, options, feed_dict,\n\u001b[0m\u001b[1;32m   1455\u001b[0m                                             \u001b[0mfetch_list\u001b[0m\u001b[0;34m,\u001b[0m \u001b[0mtarget_list\u001b[0m\u001b[0;34m,\u001b[0m\u001b[0;34m\u001b[0m\u001b[0;34m\u001b[0m\u001b[0m\n\u001b[1;32m   1456\u001b[0m                                             run_metadata)\n",
            "\u001b[0;31mKeyboardInterrupt\u001b[0m: "
          ]
        }
      ]
    },
    {
      "cell_type": "code",
      "source": [
        "dlc.evaluate_network(path_config_file,Shuffles=[SHUF], plotting=False)\n"
      ],
      "metadata": {
        "colab": {
          "base_uri": "https://localhost:8080/"
        },
        "id": "--Gq5BRc2UIr",
        "outputId": "ef86a5ba-c57c-42e9-9837-b4f9d788c5cf"
      },
      "execution_count": 19,
      "outputs": [
        {
          "output_type": "stream",
          "name": "stderr",
          "text": [
            "Config:\n",
            "{'all_joints': [[0], [1], [2], [3]],\n",
            " 'all_joints_names': ['right eye', 'left eye', 'lower head', 'tail'],\n",
            " 'batch_size': 1,\n",
            " 'crop_pad': 0,\n",
            " 'dataset': 'training-datasets/iteration-0/UnaugmentedDataSet_ZebrafishTrackingJun30/ZebrafishTracking_DLC95shuffle1.mat',\n",
            " 'dataset_type': 'imgaug',\n",
            " 'deterministic': False,\n",
            " 'fg_fraction': 0.25,\n",
            " 'global_scale': 0.8,\n",
            " 'init_weights': '/usr/local/lib/python3.10/dist-packages/deeplabcut/pose_estimation_tensorflow/models/pretrained/resnet_v1_50.ckpt',\n",
            " 'intermediate_supervision': False,\n",
            " 'intermediate_supervision_layer': 12,\n",
            " 'location_refinement': True,\n",
            " 'locref_huber_loss': True,\n",
            " 'locref_loss_weight': 1.0,\n",
            " 'locref_stdev': 7.2801,\n",
            " 'log_dir': 'log',\n",
            " 'mean_pixel': [123.68, 116.779, 103.939],\n",
            " 'mirror': False,\n",
            " 'net_type': 'resnet_50',\n",
            " 'num_joints': 4,\n",
            " 'optimizer': 'sgd',\n",
            " 'pairwise_huber_loss': True,\n",
            " 'pairwise_predict': False,\n",
            " 'partaffinityfield_predict': False,\n",
            " 'regularize': False,\n",
            " 'scoremap_dir': 'test',\n",
            " 'shuffle': True,\n",
            " 'snapshot_prefix': '/content/drive/My '\n",
            "                    'Drive/ZebrafishTracking-DLC-2023-06-30/dlc-models/iteration-0/ZebrafishTrackingJun30-trainset95shuffle1/test/snapshot',\n",
            " 'stride': 8.0,\n",
            " 'weigh_negatives': False,\n",
            " 'weigh_only_present_joints': False,\n",
            " 'weigh_part_predictions': False,\n",
            " 'weight_decay': 0.0001}\n",
            "/usr/local/lib/python3.10/dist-packages/tensorflow/python/keras/engine/base_layer_v1.py:1694: UserWarning: `layer.apply` is deprecated and will be removed in a future version. Please use `layer.__call__` method instead.\n",
            "  warnings.warn('`layer.apply` is deprecated and '\n"
          ]
        },
        {
          "output_type": "stream",
          "name": "stdout",
          "text": [
            "Running  DLC_resnet50_ZebrafishTrackingJun30shuffle1_1000  with # of training iterations: 1000\n",
            "Running evaluation ...\n"
          ]
        },
        {
          "output_type": "stream",
          "name": "stderr",
          "text": [
            "15it [00:02,  5.35it/s]\n"
          ]
        },
        {
          "output_type": "stream",
          "name": "stdout",
          "text": [
            "Analysis is done and the results are stored (see evaluation-results) for snapshot:  snapshot-1000\n",
            "Results for 1000  training iterations: 95 1 train error: 8.46 pixels. Test error: 7.01  pixels.\n",
            "With pcutoff of 0.6  train error: 3.1 pixels. Test error: 4.18 pixels\n",
            "Thereby, the errors are given by the average distances between the labels by DLC and the scorer.\n",
            "The network is evaluated and the results are stored in the subdirectory 'evaluation_results'.\n",
            "Please check the results, then choose the best model (snapshot) for prediction. You can update the config.yaml file with the appropriate index for the 'snapshotindex'.\n",
            "Use the function 'analyze_video' to make predictions on new videos.\n",
            "Otherwise, consider adding more labeled-data and retraining the network (see DeepLabCut workflow Fig 2, Nath 2019)\n"
          ]
        }
      ]
    },
    {
      "cell_type": "code",
      "source": [
        "dlc.analyze_videos(path_config_file, videofile_path, videotype=VideoType, shuffle=SHUF)"
      ],
      "metadata": {
        "colab": {
          "base_uri": "https://localhost:8080/",
          "height": 1000
        },
        "id": "ms_imJU19KkW",
        "outputId": "54b7da62-044d-4564-fb35-1affb56f6adf"
      },
      "execution_count": 21,
      "outputs": [
        {
          "output_type": "stream",
          "name": "stderr",
          "text": [
            "Config:\n",
            "{'all_joints': [[0], [1], [2], [3]],\n",
            " 'all_joints_names': ['right eye', 'left eye', 'lower head', 'tail'],\n",
            " 'batch_size': 1,\n",
            " 'crop_pad': 0,\n",
            " 'dataset': 'training-datasets/iteration-0/UnaugmentedDataSet_ZebrafishTrackingJun30/ZebrafishTracking_DLC95shuffle1.mat',\n",
            " 'dataset_type': 'imgaug',\n",
            " 'deterministic': False,\n",
            " 'fg_fraction': 0.25,\n",
            " 'global_scale': 0.8,\n",
            " 'init_weights': '/usr/local/lib/python3.10/dist-packages/deeplabcut/pose_estimation_tensorflow/models/pretrained/resnet_v1_50.ckpt',\n",
            " 'intermediate_supervision': False,\n",
            " 'intermediate_supervision_layer': 12,\n",
            " 'location_refinement': True,\n",
            " 'locref_huber_loss': True,\n",
            " 'locref_loss_weight': 1.0,\n",
            " 'locref_stdev': 7.2801,\n",
            " 'log_dir': 'log',\n",
            " 'mean_pixel': [123.68, 116.779, 103.939],\n",
            " 'mirror': False,\n",
            " 'net_type': 'resnet_50',\n",
            " 'num_joints': 4,\n",
            " 'optimizer': 'sgd',\n",
            " 'pairwise_huber_loss': True,\n",
            " 'pairwise_predict': False,\n",
            " 'partaffinityfield_predict': False,\n",
            " 'regularize': False,\n",
            " 'scoremap_dir': 'test',\n",
            " 'shuffle': True,\n",
            " 'snapshot_prefix': '/content/drive/My '\n",
            "                    'Drive/ZebrafishTracking-DLC-2023-06-30/dlc-models/iteration-0/ZebrafishTrackingJun30-trainset95shuffle1/test/snapshot',\n",
            " 'stride': 8.0,\n",
            " 'weigh_negatives': False,\n",
            " 'weigh_only_present_joints': False,\n",
            " 'weigh_part_predictions': False,\n",
            " 'weight_decay': 0.0001}\n",
            "/usr/local/lib/python3.10/dist-packages/tensorflow/python/keras/engine/base_layer_v1.py:1694: UserWarning: `layer.apply` is deprecated and will be removed in a future version. Please use `layer.__call__` method instead.\n",
            "  warnings.warn('`layer.apply` is deprecated and '\n"
          ]
        },
        {
          "output_type": "stream",
          "name": "stdout",
          "text": [
            "Using snapshot-1000 for model /content/drive/My Drive/ZebrafishTracking-DLC-2023-06-30/dlc-models/iteration-0/ZebrafishTrackingJun30-trainset95shuffle1\n",
            "Analyzing all the videos in the directory...\n",
            "Starting to analyze %  /content/drive/My Drive/ZebrafishTracking-DLC-2023-06-30/videos/temp-06272023104351-0000.avi\n",
            "Loading  /content/drive/My Drive/ZebrafishTracking-DLC-2023-06-30/videos/temp-06272023104351-0000.avi\n",
            "Duration of video [s]:  13.26 , recorded with  149.91 fps!\n",
            "Overall # of frames:  1988  found with (before cropping) frame dimensions:  916 998\n",
            "Starting to extract posture\n"
          ]
        },
        {
          "output_type": "stream",
          "name": "stderr",
          "text": [
            "100%|██████████| 1988/1988 [02:32<00:00, 13.01it/s]\n"
          ]
        },
        {
          "output_type": "stream",
          "name": "stdout",
          "text": [
            "Saving results in /content/drive/My Drive/ZebrafishTracking-DLC-2023-06-30/videos...\n",
            "Starting to analyze %  /content/drive/My Drive/ZebrafishTracking-DLC-2023-06-30/videos/temp-06272023104225-0000 (1).avi\n",
            "Loading  /content/drive/My Drive/ZebrafishTracking-DLC-2023-06-30/videos/temp-06272023104225-0000 (1).avi\n",
            "Duration of video [s]:  14.36 , recorded with  149.91 fps!\n",
            "Overall # of frames:  2152  found with (before cropping) frame dimensions:  916 998\n",
            "Starting to extract posture\n"
          ]
        },
        {
          "output_type": "stream",
          "name": "stderr",
          "text": [
            "100%|██████████| 2152/2152 [02:44<00:00, 13.06it/s]\n"
          ]
        },
        {
          "output_type": "stream",
          "name": "stdout",
          "text": [
            "Saving results in /content/drive/My Drive/ZebrafishTracking-DLC-2023-06-30/videos...\n",
            "Starting to analyze %  /content/drive/My Drive/ZebrafishTracking-DLC-2023-06-30/videos/temp-06272023104150.avi\n",
            "Loading  /content/drive/My Drive/ZebrafishTracking-DLC-2023-06-30/videos/temp-06272023104150.avi\n",
            "Duration of video [s]:  9.69 , recorded with  149.91 fps!\n",
            "Overall # of frames:  1452  found with (before cropping) frame dimensions:  916 998\n",
            "Starting to extract posture\n"
          ]
        },
        {
          "output_type": "stream",
          "name": "stderr",
          "text": [
            "100%|██████████| 1452/1452 [01:51<00:00, 13.06it/s]\n"
          ]
        },
        {
          "output_type": "stream",
          "name": "stdout",
          "text": [
            "Saving results in /content/drive/My Drive/ZebrafishTracking-DLC-2023-06-30/videos...\n",
            "Starting to analyze %  /content/drive/My Drive/ZebrafishTracking-DLC-2023-06-30/videos/temp-06272023103441.avi\n",
            "Loading  /content/drive/My Drive/ZebrafishTracking-DLC-2023-06-30/videos/temp-06272023103441.avi\n",
            "Duration of video [s]:  7.96 , recorded with  149.91 fps!\n",
            "Overall # of frames:  1193  found with (before cropping) frame dimensions:  396 630\n",
            "Starting to extract posture\n"
          ]
        },
        {
          "output_type": "stream",
          "name": "stderr",
          "text": [
            "100%|██████████| 1193/1193 [00:22<00:00, 52.01it/s]\n"
          ]
        },
        {
          "output_type": "stream",
          "name": "stdout",
          "text": [
            "Saving results in /content/drive/My Drive/ZebrafishTracking-DLC-2023-06-30/videos...\n",
            "Starting to analyze %  /content/drive/My Drive/ZebrafishTracking-DLC-2023-06-30/videos/temp-06272023104408-0000 (1).avi\n",
            "Loading  /content/drive/My Drive/ZebrafishTracking-DLC-2023-06-30/videos/temp-06272023104408-0000 (1).avi\n",
            "Duration of video [s]:  9.55 , recorded with  149.91 fps!\n",
            "Overall # of frames:  1431  found with (before cropping) frame dimensions:  916 998\n",
            "Starting to extract posture\n"
          ]
        },
        {
          "output_type": "stream",
          "name": "stderr",
          "text": [
            "100%|██████████| 1431/1431 [01:49<00:00, 13.03it/s]\n"
          ]
        },
        {
          "output_type": "stream",
          "name": "stdout",
          "text": [
            "Saving results in /content/drive/My Drive/ZebrafishTracking-DLC-2023-06-30/videos...\n",
            "Starting to analyze %  /content/drive/My Drive/ZebrafishTracking-DLC-2023-06-30/videos/temp-06272023104453-0000.avi\n",
            "Loading  /content/drive/My Drive/ZebrafishTracking-DLC-2023-06-30/videos/temp-06272023104453-0000.avi\n",
            "Duration of video [s]:  9.33 , recorded with  149.91 fps!\n",
            "Overall # of frames:  1399  found with (before cropping) frame dimensions:  916 998\n",
            "Starting to extract posture\n"
          ]
        },
        {
          "output_type": "stream",
          "name": "stderr",
          "text": [
            "100%|██████████| 1399/1399 [01:47<00:00, 13.01it/s]\n"
          ]
        },
        {
          "output_type": "stream",
          "name": "stdout",
          "text": [
            "Saving results in /content/drive/My Drive/ZebrafishTracking-DLC-2023-06-30/videos...\n",
            "Starting to analyze %  /content/drive/My Drive/ZebrafishTracking-DLC-2023-06-30/videos/temp-06272023104430-0000 (1).avi\n",
            "Loading  /content/drive/My Drive/ZebrafishTracking-DLC-2023-06-30/videos/temp-06272023104430-0000 (1).avi\n",
            "Duration of video [s]:  18.5 , recorded with  149.91 fps!\n",
            "Overall # of frames:  2773  found with (before cropping) frame dimensions:  916 998\n",
            "Starting to extract posture\n"
          ]
        },
        {
          "output_type": "stream",
          "name": "stderr",
          "text": [
            "100%|██████████| 2773/2773 [03:32<00:00, 13.04it/s]"
          ]
        },
        {
          "output_type": "stream",
          "name": "stdout",
          "text": [
            "Saving results in /content/drive/My Drive/ZebrafishTracking-DLC-2023-06-30/videos...\n",
            "The videos are analyzed. Now your research can truly start! \n",
            " You can create labeled videos with 'create_labeled_video'\n",
            "If the tracking is not satisfactory for some videos, consider expanding the training set. You can use the function 'extract_outlier_frames' to extract a few representative outlier frames.\n"
          ]
        },
        {
          "output_type": "stream",
          "name": "stderr",
          "text": [
            "\n"
          ]
        },
        {
          "output_type": "execute_result",
          "data": {
            "text/plain": [
              "'DLC_resnet50_ZebrafishTrackingJun30shuffle1_1000'"
            ],
            "application/vnd.google.colaboratory.intrinsic+json": {
              "type": "string"
            }
          },
          "metadata": {},
          "execution_count": 21
        }
      ]
    },
    {
      "cell_type": "code",
      "source": [
        "dlc.filterpredictions(path_config_file, videofile_path, videotype=VideoType, shuffle=SHUF)"
      ],
      "metadata": {
        "colab": {
          "base_uri": "https://localhost:8080/"
        },
        "id": "MNz65iQPBgKy",
        "outputId": "19090213-40b6-4b01-9a17-274116386405"
      },
      "execution_count": 24,
      "outputs": [
        {
          "output_type": "stream",
          "name": "stdout",
          "text": [
            "Analyzing all the videos in the directory...\n",
            "Filtering with median model /content/drive/My Drive/ZebrafishTracking-DLC-2023-06-30/videos/temp-06272023104351-0000.avi\n",
            "Saving filtered csv poses!\n",
            "Filtering with median model /content/drive/My Drive/ZebrafishTracking-DLC-2023-06-30/videos/temp-06272023104150.avi\n",
            "Saving filtered csv poses!\n",
            "Filtering with median model /content/drive/My Drive/ZebrafishTracking-DLC-2023-06-30/videos/temp-06272023104408-0000 (1).avi\n",
            "Saving filtered csv poses!\n",
            "Filtering with median model /content/drive/My Drive/ZebrafishTracking-DLC-2023-06-30/videos/temp-06272023104453-0000.avi\n",
            "Saving filtered csv poses!\n",
            "Filtering with median model /content/drive/My Drive/ZebrafishTracking-DLC-2023-06-30/videos/temp-06272023104430-0000 (1).avi\n",
            "Saving filtered csv poses!\n",
            "Filtering with median model /content/drive/My Drive/ZebrafishTracking-DLC-2023-06-30/videos/temp-06272023104225-0000 (1).avi\n",
            "Saving filtered csv poses!\n",
            "Filtering with median model /content/drive/My Drive/ZebrafishTracking-DLC-2023-06-30/videos/temp-06272023103441.avi\n",
            "Saving filtered csv poses!\n"
          ]
        }
      ]
    },
    {
      "cell_type": "code",
      "source": [
        "dlc.create_labeled_video(path_config_file,videofile_path, videotype=VideoType, shuffle=SHUF, filtered=True)"
      ],
      "metadata": {
        "colab": {
          "base_uri": "https://localhost:8080/"
        },
        "id": "OWFFXy-aCJTe",
        "outputId": "533795a3-2ee7-4258-ea1d-6e2fd7bd7364"
      },
      "execution_count": 29,
      "outputs": [
        {
          "output_type": "stream",
          "name": "stdout",
          "text": [
            "Analyzing all the videos in the directory...\n",
            "Starting to process video: /content/drive/My Drive/ZebrafishTracking-DLC-2023-06-30/videos/temp-06272023104150.avi\n",
            "Starting to process video: /content/drive/My Drive/ZebrafishTracking-DLC-2023-06-30/videos/temp-06272023104225-0000 (1).aviLoading /content/drive/My Drive/ZebrafishTracking-DLC-2023-06-30/videos/temp-06272023104150.avi and data.\n",
            "\n",
            "Loading /content/drive/My Drive/ZebrafishTracking-DLC-2023-06-30/videos/temp-06272023104225-0000 (1).avi and data.\n",
            "Duration of video [s]: 9.68, recorded with 150 fps!\n",
            "Duration of video [s]: 14.35, recorded with 150 fps!\n",
            "Overall # of frames: 1452 with cropped frame dimensions: 916 998\n",
            "Overall # of frames: 2152 with cropped frame dimensions: 916 998Generating frames and creating video.\n",
            "\n",
            "Generating frames and creating video."
          ]
        },
        {
          "output_type": "stream",
          "name": "stderr",
          "text": [
            "\r  0%|          | 0/1452 [00:00<?, ?it/s]"
          ]
        },
        {
          "output_type": "stream",
          "name": "stdout",
          "text": [
            "\n"
          ]
        },
        {
          "output_type": "stream",
          "name": "stderr",
          "text": [
            "100%|██████████| 1452/1452 [00:31<00:00, 46.53it/s]\n",
            " 56%|█████▌    | 1202/2152 [00:31<00:29, 32.02it/s]"
          ]
        },
        {
          "output_type": "stream",
          "name": "stdout",
          "text": [
            "Starting to process video: /content/drive/My Drive/ZebrafishTracking-DLC-2023-06-30/videos/temp-06272023104453-0000.avi\n",
            "Loading /content/drive/My Drive/ZebrafishTracking-DLC-2023-06-30/videos/temp-06272023104453-0000.avi and data.\n"
          ]
        },
        {
          "output_type": "stream",
          "name": "stderr",
          "text": [
            " 57%|█████▋    | 1236/2152 [00:31<00:17, 52.94it/s]"
          ]
        },
        {
          "output_type": "stream",
          "name": "stdout",
          "text": [
            "Duration of video [s]: 9.33, recorded with 150 fps!\n",
            "Overall # of frames: 1399 with cropped frame dimensions: 916 998\n",
            "Generating frames and creating video.\n"
          ]
        },
        {
          "output_type": "stream",
          "name": "stderr",
          "text": [
            "100%|██████████| 2152/2152 [00:53<00:00, 40.53it/s]\n"
          ]
        },
        {
          "output_type": "stream",
          "name": "stdout",
          "text": [
            "Starting to process video: /content/drive/My Drive/ZebrafishTracking-DLC-2023-06-30/videos/temp-06272023104351-0000.avi\n",
            "Loading /content/drive/My Drive/ZebrafishTracking-DLC-2023-06-30/videos/temp-06272023104351-0000.avi and data.\n"
          ]
        },
        {
          "output_type": "stream",
          "name": "stderr",
          "text": [
            " 68%|██████▊   | 950/1399 [00:21<00:05, 88.55it/s]"
          ]
        },
        {
          "output_type": "stream",
          "name": "stdout",
          "text": [
            "Duration of video [s]: 13.25, recorded with 150 fps!\n",
            "Overall # of frames: 1988 with cropped frame dimensions: 916 998\n",
            "Generating frames and creating video.\n"
          ]
        },
        {
          "output_type": "stream",
          "name": "stderr",
          "text": [
            "100%|██████████| 1399/1399 [00:32<00:00, 43.22it/s]\n",
            " 24%|██▎       | 472/1988 [00:10<01:00, 25.17it/s]"
          ]
        },
        {
          "output_type": "stream",
          "name": "stdout",
          "text": [
            "Starting to process video: /content/drive/My Drive/ZebrafishTracking-DLC-2023-06-30/videos/temp-06272023103441.avi\n",
            "Loading /content/drive/My Drive/ZebrafishTracking-DLC-2023-06-30/videos/temp-06272023103441.avi and data.\n"
          ]
        },
        {
          "output_type": "stream",
          "name": "stderr",
          "text": [
            "\r 24%|██▍       | 475/1988 [00:10<00:57, 26.11it/s]"
          ]
        },
        {
          "output_type": "stream",
          "name": "stdout",
          "text": [
            "Duration of video [s]: 7.95, recorded with 150 fps!\n",
            "Overall # of frames: 1193 with cropped frame dimensions: 396 630\n",
            "Generating frames and creating video.\n"
          ]
        },
        {
          "output_type": "stream",
          "name": "stderr",
          "text": [
            "100%|██████████| 1193/1193 [00:07<00:00, 164.08it/s]\n"
          ]
        },
        {
          "output_type": "stream",
          "name": "stdout",
          "text": [
            "Starting to process video: /content/drive/My Drive/ZebrafishTracking-DLC-2023-06-30/videos/temp-06272023104430-0000 (1).avi\n",
            "Loading /content/drive/My Drive/ZebrafishTracking-DLC-2023-06-30/videos/temp-06272023104430-0000 (1).avi and data.\n"
          ]
        },
        {
          "output_type": "stream",
          "name": "stderr",
          "text": [
            "\r 38%|███▊      | 760/1988 [00:18<00:24, 49.80it/s]"
          ]
        },
        {
          "output_type": "stream",
          "name": "stdout",
          "text": [
            "Duration of video [s]: 18.49, recorded with 150 fps!\n",
            "Overall # of frames: 2773 with cropped frame dimensions: 916 998\n",
            "Generating frames and creating video.\n"
          ]
        },
        {
          "output_type": "stream",
          "name": "stderr",
          "text": [
            "100%|██████████| 1988/1988 [00:47<00:00, 41.55it/s]\n"
          ]
        },
        {
          "output_type": "stream",
          "name": "stdout",
          "text": [
            "Starting to process video: /content/drive/My Drive/ZebrafishTracking-DLC-2023-06-30/videos/temp-06272023104408-0000 (1).avi\n",
            "Loading /content/drive/My Drive/ZebrafishTracking-DLC-2023-06-30/videos/temp-06272023104408-0000 (1).avi and data.\n"
          ]
        },
        {
          "output_type": "stream",
          "name": "stderr",
          "text": [
            " 46%|████▌     | 1266/2773 [00:30<00:18, 80.63it/s]"
          ]
        },
        {
          "output_type": "stream",
          "name": "stdout",
          "text": [
            "Duration of video [s]: 9.54, recorded with 150 fps!\n",
            "Overall # of frames: 1431 with cropped frame dimensions: 916 998\n",
            "Generating frames and creating video.\n"
          ]
        },
        {
          "output_type": "stream",
          "name": "stderr",
          "text": [
            "100%|██████████| 1431/1431 [00:33<00:00, 43.24it/s]\n",
            "100%|██████████| 2773/2773 [01:04<00:00, 42.75it/s]\n"
          ]
        },
        {
          "output_type": "execute_result",
          "data": {
            "text/plain": [
              "[True, True, True, True, True, True, True]"
            ]
          },
          "metadata": {},
          "execution_count": 29
        }
      ]
    }
  ]
}