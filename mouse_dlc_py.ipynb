{
  "nbformat": 4,
  "nbformat_minor": 0,
  "metadata": {
    "colab": {
      "provenance": [],
      "gpuType": "T4",
      "authorship_tag": "ABX9TyOrCHQ+dmrlhUSGB69C9aEp",
      "include_colab_link": true
    },
    "kernelspec": {
      "name": "python3",
      "display_name": "Python 3"
    },
    "language_info": {
      "name": "python"
    },
    "accelerator": "GPU"
  },
  "cells": [
    {
      "cell_type": "markdown",
      "metadata": {
        "id": "view-in-github",
        "colab_type": "text"
      },
      "source": [
        "<a href=\"https://colab.research.google.com/github/Yason-9/2023_zfish_research/blob/main/mouse_dlc_py.ipynb\" target=\"_parent\"><img src=\"https://colab.research.google.com/assets/colab-badge.svg\" alt=\"Open In Colab\"/></a>"
      ]
    },
    {
      "cell_type": "code",
      "execution_count": 6,
      "metadata": {
        "colab": {
          "base_uri": "https://localhost:8080/"
        },
        "id": "whDzLZzryKcl",
        "outputId": "17bf5747-f7d4-48c8-8a00-66f9289ba816"
      },
      "outputs": [
        {
          "output_type": "stream",
          "name": "stdout",
          "text": [
            "Collecting https://github.com/DeepLabCut/DeepLabCut/archive/master.zip\n",
            "  Downloading https://github.com/DeepLabCut/DeepLabCut/archive/master.zip\n",
            "\u001b[2K     \u001b[32m/\u001b[0m \u001b[32m75.5 MB\u001b[0m \u001b[31m32.8 MB/s\u001b[0m \u001b[33m0:00:04\u001b[0m\n",
            "\u001b[?25h  Preparing metadata (setup.py) ... \u001b[?25l\u001b[?25hdone\n",
            "Requirement already satisfied: dlclibrary in /usr/local/lib/python3.10/dist-packages (from deeplabcut==2.3.5) (0.0.3)\n",
            "Requirement already satisfied: filterpy>=1.4.4 in /usr/local/lib/python3.10/dist-packages (from deeplabcut==2.3.5) (1.4.5)\n",
            "Requirement already satisfied: ruamel.yaml>=0.15.0 in /usr/local/lib/python3.10/dist-packages (from deeplabcut==2.3.5) (0.17.32)\n",
            "Requirement already satisfied: imgaug>=0.4.0 in /usr/local/lib/python3.10/dist-packages (from deeplabcut==2.3.5) (0.4.0)\n",
            "Requirement already satisfied: imageio-ffmpeg in /usr/local/lib/python3.10/dist-packages (from deeplabcut==2.3.5) (0.4.8)\n",
            "Requirement already satisfied: numba>=0.54 in /usr/local/lib/python3.10/dist-packages (from deeplabcut==2.3.5) (0.56.4)\n",
            "Requirement already satisfied: matplotlib>=3.3 in /usr/local/lib/python3.10/dist-packages (from deeplabcut==2.3.5) (3.7.1)\n",
            "Requirement already satisfied: networkx>=2.6 in /usr/local/lib/python3.10/dist-packages (from deeplabcut==2.3.5) (3.1)\n",
            "Requirement already satisfied: numpy>=1.18.5 in /usr/local/lib/python3.10/dist-packages (from deeplabcut==2.3.5) (1.22.4)\n",
            "Requirement already satisfied: pandas!=1.5.0,>=1.0.1 in /usr/local/lib/python3.10/dist-packages (from deeplabcut==2.3.5) (1.5.3)\n",
            "Requirement already satisfied: scikit-image>=0.17 in /usr/local/lib/python3.10/dist-packages (from deeplabcut==2.3.5) (0.19.3)\n",
            "Requirement already satisfied: scikit-learn>=1.0 in /usr/local/lib/python3.10/dist-packages (from deeplabcut==2.3.5) (1.2.2)\n",
            "Requirement already satisfied: scipy<1.11.0,>=1.4 in /usr/local/lib/python3.10/dist-packages (from deeplabcut==2.3.5) (1.10.1)\n",
            "Requirement already satisfied: statsmodels>=0.11 in /usr/local/lib/python3.10/dist-packages (from deeplabcut==2.3.5) (0.13.5)\n",
            "Requirement already satisfied: tables>=3.7.0 in /usr/local/lib/python3.10/dist-packages (from deeplabcut==2.3.5) (3.8.0)\n",
            "Requirement already satisfied: torch<=1.12 in /usr/local/lib/python3.10/dist-packages (from deeplabcut==2.3.5) (1.12.0)\n",
            "Requirement already satisfied: tensorpack>=0.11 in /usr/local/lib/python3.10/dist-packages (from deeplabcut==2.3.5) (0.11)\n",
            "Requirement already satisfied: tf_slim>=1.1.0 in /usr/local/lib/python3.10/dist-packages (from deeplabcut==2.3.5) (1.1.0)\n",
            "Requirement already satisfied: tqdm in /usr/local/lib/python3.10/dist-packages (from deeplabcut==2.3.5) (4.65.0)\n",
            "Requirement already satisfied: pyyaml in /usr/local/lib/python3.10/dist-packages (from deeplabcut==2.3.5) (6.0)\n",
            "Requirement already satisfied: Pillow>=7.1 in /usr/local/lib/python3.10/dist-packages (from deeplabcut==2.3.5) (8.4.0)\n",
            "Requirement already satisfied: six in /usr/local/lib/python3.10/dist-packages (from imgaug>=0.4.0->deeplabcut==2.3.5) (1.16.0)\n",
            "Requirement already satisfied: opencv-python in /usr/local/lib/python3.10/dist-packages (from imgaug>=0.4.0->deeplabcut==2.3.5) (4.7.0.72)\n",
            "Requirement already satisfied: imageio in /usr/local/lib/python3.10/dist-packages (from imgaug>=0.4.0->deeplabcut==2.3.5) (2.25.1)\n",
            "Requirement already satisfied: Shapely in /usr/local/lib/python3.10/dist-packages (from imgaug>=0.4.0->deeplabcut==2.3.5) (2.0.1)\n",
            "Requirement already satisfied: contourpy>=1.0.1 in /usr/local/lib/python3.10/dist-packages (from matplotlib>=3.3->deeplabcut==2.3.5) (1.1.0)\n",
            "Requirement already satisfied: cycler>=0.10 in /usr/local/lib/python3.10/dist-packages (from matplotlib>=3.3->deeplabcut==2.3.5) (0.11.0)\n",
            "Requirement already satisfied: fonttools>=4.22.0 in /usr/local/lib/python3.10/dist-packages (from matplotlib>=3.3->deeplabcut==2.3.5) (4.40.0)\n",
            "Requirement already satisfied: kiwisolver>=1.0.1 in /usr/local/lib/python3.10/dist-packages (from matplotlib>=3.3->deeplabcut==2.3.5) (1.4.4)\n",
            "Requirement already satisfied: packaging>=20.0 in /usr/local/lib/python3.10/dist-packages (from matplotlib>=3.3->deeplabcut==2.3.5) (23.1)\n",
            "Requirement already satisfied: pyparsing>=2.3.1 in /usr/local/lib/python3.10/dist-packages (from matplotlib>=3.3->deeplabcut==2.3.5) (3.1.0)\n",
            "Requirement already satisfied: python-dateutil>=2.7 in /usr/local/lib/python3.10/dist-packages (from matplotlib>=3.3->deeplabcut==2.3.5) (2.8.2)\n",
            "Requirement already satisfied: llvmlite<0.40,>=0.39.0dev0 in /usr/local/lib/python3.10/dist-packages (from numba>=0.54->deeplabcut==2.3.5) (0.39.1)\n",
            "Requirement already satisfied: setuptools in /usr/local/lib/python3.10/dist-packages (from numba>=0.54->deeplabcut==2.3.5) (67.7.2)\n",
            "Requirement already satisfied: pytz>=2020.1 in /usr/local/lib/python3.10/dist-packages (from pandas!=1.5.0,>=1.0.1->deeplabcut==2.3.5) (2022.7.1)\n",
            "Requirement already satisfied: ruamel.yaml.clib>=0.2.7 in /usr/local/lib/python3.10/dist-packages (from ruamel.yaml>=0.15.0->deeplabcut==2.3.5) (0.2.7)\n",
            "Requirement already satisfied: tifffile>=2019.7.26 in /usr/local/lib/python3.10/dist-packages (from scikit-image>=0.17->deeplabcut==2.3.5) (2023.4.12)\n",
            "Requirement already satisfied: PyWavelets>=1.1.1 in /usr/local/lib/python3.10/dist-packages (from scikit-image>=0.17->deeplabcut==2.3.5) (1.4.1)\n",
            "Requirement already satisfied: joblib>=1.1.1 in /usr/local/lib/python3.10/dist-packages (from scikit-learn>=1.0->deeplabcut==2.3.5) (1.2.0)\n",
            "Requirement already satisfied: threadpoolctl>=2.0.0 in /usr/local/lib/python3.10/dist-packages (from scikit-learn>=1.0->deeplabcut==2.3.5) (3.1.0)\n",
            "Requirement already satisfied: patsy>=0.5.2 in /usr/local/lib/python3.10/dist-packages (from statsmodels>=0.11->deeplabcut==2.3.5) (0.5.3)\n",
            "Requirement already satisfied: cython>=0.29.21 in /usr/local/lib/python3.10/dist-packages (from tables>=3.7.0->deeplabcut==2.3.5) (0.29.35)\n",
            "Requirement already satisfied: numexpr>=2.6.2 in /usr/local/lib/python3.10/dist-packages (from tables>=3.7.0->deeplabcut==2.3.5) (2.8.4)\n",
            "Requirement already satisfied: blosc2~=2.0.0 in /usr/local/lib/python3.10/dist-packages (from tables>=3.7.0->deeplabcut==2.3.5) (2.0.0)\n",
            "Requirement already satisfied: py-cpuinfo in /usr/local/lib/python3.10/dist-packages (from tables>=3.7.0->deeplabcut==2.3.5) (9.0.0)\n",
            "Requirement already satisfied: termcolor>=1.1 in /usr/local/lib/python3.10/dist-packages (from tensorpack>=0.11->deeplabcut==2.3.5) (2.3.0)\n",
            "Requirement already satisfied: tabulate>=0.7.7 in /usr/local/lib/python3.10/dist-packages (from tensorpack>=0.11->deeplabcut==2.3.5) (0.8.10)\n",
            "Requirement already satisfied: msgpack>=0.5.2 in /usr/local/lib/python3.10/dist-packages (from tensorpack>=0.11->deeplabcut==2.3.5) (1.0.5)\n",
            "Requirement already satisfied: msgpack-numpy>=0.4.4.2 in /usr/local/lib/python3.10/dist-packages (from tensorpack>=0.11->deeplabcut==2.3.5) (0.4.8)\n",
            "Requirement already satisfied: pyzmq>=16 in /usr/local/lib/python3.10/dist-packages (from tensorpack>=0.11->deeplabcut==2.3.5) (23.2.1)\n",
            "Requirement already satisfied: psutil>=5 in /usr/local/lib/python3.10/dist-packages (from tensorpack>=0.11->deeplabcut==2.3.5) (5.9.5)\n",
            "Requirement already satisfied: absl-py>=0.2.2 in /usr/local/lib/python3.10/dist-packages (from tf_slim>=1.1.0->deeplabcut==2.3.5) (1.4.0)\n",
            "Requirement already satisfied: typing-extensions in /usr/local/lib/python3.10/dist-packages (from torch<=1.12->deeplabcut==2.3.5) (4.6.3)\n",
            "Requirement already satisfied: huggingface-hub in /usr/local/lib/python3.10/dist-packages (from dlclibrary->deeplabcut==2.3.5) (0.15.1)\n",
            "Requirement already satisfied: filelock in /usr/local/lib/python3.10/dist-packages (from huggingface-hub->dlclibrary->deeplabcut==2.3.5) (3.12.2)\n",
            "Requirement already satisfied: fsspec in /usr/local/lib/python3.10/dist-packages (from huggingface-hub->dlclibrary->deeplabcut==2.3.5) (2023.6.0)\n",
            "Requirement already satisfied: requests in /usr/local/lib/python3.10/dist-packages (from huggingface-hub->dlclibrary->deeplabcut==2.3.5) (2.27.1)\n",
            "Requirement already satisfied: urllib3<1.27,>=1.21.1 in /usr/local/lib/python3.10/dist-packages (from requests->huggingface-hub->dlclibrary->deeplabcut==2.3.5) (1.26.16)\n",
            "Requirement already satisfied: certifi>=2017.4.17 in /usr/local/lib/python3.10/dist-packages (from requests->huggingface-hub->dlclibrary->deeplabcut==2.3.5) (2023.5.7)\n",
            "Requirement already satisfied: charset-normalizer~=2.0.0 in /usr/local/lib/python3.10/dist-packages (from requests->huggingface-hub->dlclibrary->deeplabcut==2.3.5) (2.0.12)\n",
            "Requirement already satisfied: idna<4,>=2.5 in /usr/local/lib/python3.10/dist-packages (from requests->huggingface-hub->dlclibrary->deeplabcut==2.3.5) (3.4)\n"
          ]
        }
      ],
      "source": [
        "!pip install https://github.com/DeepLabCut/DeepLabCut/archive/master.zip\n"
      ]
    },
    {
      "cell_type": "code",
      "source": [
        "import requests\n",
        "from io import BytesIO\n",
        "from zipfile import ZipFile\n",
        "\n",
        "url_record = 'https://zenodo.org/api/records/7883589'\n",
        "response = requests.get(url_record)\n",
        "if response.status_code == 200:\n",
        "    file = response.json()['files'][0]\n",
        "    title = file['key']\n",
        "    print(f\"Downloading {title}...\")\n",
        "    with requests.get(file['links']['self'], stream=True) as r:\n",
        "        with ZipFile(BytesIO(r.content)) as zf:\n",
        "            zf.extractall(path='/content')\n",
        "else:\n",
        "    raise ValueError(f'The URL {url_record} could not be reached.')"
      ],
      "metadata": {
        "colab": {
          "base_uri": "https://localhost:8080/"
        },
        "id": "iWItP9Qu-DVC",
        "outputId": "ef69213f-15df-476b-db28-f179ace0b81b"
      },
      "execution_count": 7,
      "outputs": [
        {
          "output_type": "stream",
          "name": "stdout",
          "text": [
            "Downloading demo-me-2021-07-14.zip...\n"
          ]
        }
      ]
    },
    {
      "cell_type": "code",
      "source": [
        "import deeplabcut as dlc\n",
        "import os\n",
        "\n",
        "project_path = \"/content/demo-me-2021-07-14\"\n",
        "config_path = os.path.join(project_path, \"config.yaml\")\n",
        "video = os.path.join(project_path, \"videos\", \"videocompressed1.mp4\")\n",
        "\n",
        "dlc.analyze_videos(config_path,[video], shuffle=0, videotype=\"mp4\",auto_track=False )\n"
      ],
      "metadata": {
        "colab": {
          "base_uri": "https://localhost:8080/",
          "height": 298
        },
        "id": "HH7XBv-Z-q9K",
        "outputId": "a4c788ec-5411-49b3-94f4-5de15127a4e2"
      },
      "execution_count": 9,
      "outputs": [
        {
          "output_type": "stream",
          "name": "stdout",
          "text": [
            "Using snapshot-20000 for model /content/demo-me-2021-07-14/dlc-models/iteration-0/demoJul14-trainset95shuffle0\n"
          ]
        },
        {
          "output_type": "stream",
          "name": "stderr",
          "text": [
            "/usr/local/lib/python3.10/dist-packages/tensorflow/python/keras/engine/base_layer_v1.py:1694: UserWarning: `layer.apply` is deprecated and will be removed in a future version. Please use `layer.__call__` method instead.\n",
            "  warnings.warn('`layer.apply` is deprecated and '\n"
          ]
        },
        {
          "output_type": "stream",
          "name": "stdout",
          "text": [
            "Activating extracting of PAFs\n",
            "Starting to analyze %  /content/demo-me-2021-07-14/videos/videocompressed1.mp4\n",
            "Loading  /content/demo-me-2021-07-14/videos/videocompressed1.mp4\n",
            "Duration of video [s]:  77.67 , recorded with  30.0 fps!\n",
            "Overall # of frames:  2330  found with (before cropping) frame dimensions:  640 480\n",
            "Starting to extract posture from the video(s) with batchsize: 8\n"
          ]
        },
        {
          "output_type": "stream",
          "name": "stderr",
          "text": [
            "100%|██████████| 2330/2330 [02:28<00:00, 15.64it/s]\n"
          ]
        },
        {
          "output_type": "stream",
          "name": "stdout",
          "text": [
            "Video Analyzed. Saving results in /content/demo-me-2021-07-14/videos...\n",
            "The videos are analyzed. Time to assemble animals and track 'em... \n",
            " Call 'create_video_with_all_detections' to check multi-animal detection quality before tracking.\n",
            "If the tracking is not satisfactory for some videos, consider expanding the training set. You can use the function 'extract_outlier_frames' to extract a few representative outlier frames.\n"
          ]
        },
        {
          "output_type": "execute_result",
          "data": {
            "text/plain": [
              "'DLC_dlcrnetms5_demoJul14shuffle0_20000'"
            ],
            "application/vnd.google.colaboratory.intrinsic+json": {
              "type": "string"
            }
          },
          "metadata": {},
          "execution_count": 9
        }
      ]
    },
    {
      "cell_type": "code",
      "source": [
        "TRACK_METHOD = \"ellipse\"\n",
        "dlc.convert_detections2tracklets(\n",
        "    config_path,\n",
        "    [video],\n",
        "    videotype='mp4',\n",
        "    shuffle=0,\n",
        "    track_method=TRACK_METHOD,\n",
        "    ignore_bodyparts=[\"tail1\", \"tail2\", \"tailend\"]\n",
        ")\n",
        "\n",
        "#deconstruct video into spatio-temporal grouping\n",
        "#track body part assemblies frame-by-frame"
      ],
      "metadata": {
        "colab": {
          "base_uri": "https://localhost:8080/"
        },
        "id": "KPdDMtgxBKPG",
        "outputId": "46170458-8e78-4f98-8bef-4ca5282e603d"
      },
      "execution_count": 11,
      "outputs": [
        {
          "output_type": "stream",
          "name": "stdout",
          "text": [
            "Using snapshot-20000 for model /content/demo-me-2021-07-14/dlc-models/iteration-0/demoJul14-trainset95shuffle0\n",
            "Processing...  /content/demo-me-2021-07-14/videos/videocompressed1.mp4\n",
            "Analyzing /content/demo-me-2021-07-14/videos/videocompressed1DLC_dlcrnetms5_demoJul14shuffle0_20000.h5\n"
          ]
        },
        {
          "output_type": "stream",
          "name": "stderr",
          "text": [
            "100%|██████████| 2330/2330 [00:13<00:00, 178.64it/s]\n",
            "2330it [00:13, 175.05it/s]\n"
          ]
        },
        {
          "output_type": "stream",
          "name": "stdout",
          "text": [
            "The tracklets were created (i.e., under the hood deeplabcut.convert_detections2tracklets was run). Now you can 'refine_tracklets' in the GUI, or run 'deeplabcut.stitch_tracklets'.\n"
          ]
        }
      ]
    },
    {
      "cell_type": "code",
      "source": [
        "dlc.stitch_tracklets(\n",
        "    config_path,\n",
        "    [video],\n",
        "    videotype='mp4',\n",
        "    shuffle=0,\n",
        "    track_method=TRACK_METHOD,\n",
        "    n_tracks=3\n",
        ")"
      ],
      "metadata": {
        "colab": {
          "base_uri": "https://localhost:8080/"
        },
        "id": "diZmeln3BgJ8",
        "outputId": "eb0d27e4-1983-402c-8796-de73abaa626b"
      },
      "execution_count": 12,
      "outputs": [
        {
          "output_type": "stream",
          "name": "stderr",
          "text": [
            "/usr/local/lib/python3.10/dist-packages/deeplabcut/refine_training_dataset/stitch.py:138: FutureWarning: Unlike other reduction functions (e.g. `skew`, `kurtosis`), the default behavior of `mode` typically preserves the axis it acts along. In SciPy 1.11.0, this behavior will change: the default value of `keepdims` will become False, the `axis` over which the statistic is taken will be eliminated, and the value None will no longer be accepted. Set `keepdims` to True or False to avoid this warning.\n",
            "  return mode(self.data[..., 3], axis=None, nan_policy=\"omit\")[0][0]\n"
          ]
        },
        {
          "output_type": "stream",
          "name": "stdout",
          "text": [
            "Processing...  /content/demo-me-2021-07-14/videos/videocompressed1.mp4\n"
          ]
        },
        {
          "output_type": "stream",
          "name": "stderr",
          "text": [
            "100%|██████████| 3/3 [00:00<00:00, 25015.73it/s]\n"
          ]
        }
      ]
    },
    {
      "cell_type": "code",
      "source": [
        "dlc.filterpredictions(\n",
        "    config_path,\n",
        "    [video],\n",
        "    shuffle=0,\n",
        "    videotype='mp4',\n",
        "    track_method = TRACK_METHOD\n",
        ")\n",
        "\n",
        "dlc.create_labeled_video(\n",
        "    config_path,\n",
        "    [video],\n",
        "    videotype='mp4',\n",
        "    shuffle=0,\n",
        "    color_by=\"individual\",\n",
        "    keypoints_only=False,\n",
        "    draw_skeleton=True,\n",
        "    filtered=True,\n",
        "    track_method=TRACK_METHOD,\n",
        ")"
      ],
      "metadata": {
        "colab": {
          "base_uri": "https://localhost:8080/"
        },
        "id": "fVbdqf9zB3-1",
        "outputId": "0f1bfa43-b28c-4d69-e610-bf3ee8456003"
      },
      "execution_count": 13,
      "outputs": [
        {
          "output_type": "stream",
          "name": "stdout",
          "text": [
            "Filtering with median model /content/demo-me-2021-07-14/videos/videocompressed1.mp4\n",
            "Saving filtered csv poses!\n",
            "Starting to process video: /content/demo-me-2021-07-14/videos/videocompressed1.mp4\n",
            "Loading /content/demo-me-2021-07-14/videos/videocompressed1.mp4 and data.\n",
            "Duration of video [s]: 77.67, recorded with 30.0 fps!\n",
            "Overall # of frames: 2330 with cropped frame dimensions: 640 480\n",
            "Generating frames and creating video.\n"
          ]
        },
        {
          "output_type": "stream",
          "name": "stderr",
          "text": [
            "100%|██████████| 2330/2330 [01:05<00:00, 35.47it/s]\n"
          ]
        },
        {
          "output_type": "execute_result",
          "data": {
            "text/plain": [
              "[True]"
            ]
          },
          "metadata": {},
          "execution_count": 13
        }
      ]
    }
  ]
}